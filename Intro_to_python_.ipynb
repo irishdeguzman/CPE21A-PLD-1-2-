{
  "nbformat": 4,
  "nbformat_minor": 0,
  "metadata": {
    "colab": {
      "provenance": []
    },
    "kernelspec": {
      "name": "python3",
      "display_name": "Python 3"
    },
    "language_info": {
      "name": "python"
    }
  },
  "cells": [
    {
      "cell_type": "markdown",
      "source": [],
      "metadata": {
        "id": "jkrBeH9C1LKL"
      }
    },
    {
      "cell_type": "markdown",
      "source": [
        "#Indentation"
      ],
      "metadata": {
        "id": "ZCi4Jn-m1LNT"
      }
    },
    {
      "cell_type": "code",
      "source": [
        "if 5>3:\n",
        "  print (\"5 is greater that 3\")  #This is a comment"
      ],
      "metadata": {
        "colab": {
          "base_uri": "https://localhost:8080/"
        },
        "id": "qKdVw2-H1RlC",
        "outputId": "80bee32b-14de-4a9a-e933-5b6f4240d31f"
      },
      "execution_count": 1,
      "outputs": [
        {
          "output_type": "stream",
          "name": "stdout",
          "text": [
            "5 is greater that 3\n"
          ]
        }
      ]
    },
    {
      "cell_type": "markdown",
      "source": [
        "Variable Declaration"
      ],
      "metadata": {
        "id": "4icegMcb1f5w"
      }
    },
    {
      "cell_type": "code",
      "source": [
        "#variable with a single value\n",
        "x=5\n",
        "y=3\n",
        "if x<y:\n",
        "  print (\"x is greater than y\")\n",
        "else:\n",
        "  print (\"y is greater than x\")\n",
        "\n",
        "\n",
        "#variable with multiple values\n",
        "\n",
        "a,b = 1,2\n",
        "print (\"The value of a is:\",a)\n",
        "print (\"The value of b is:\",b)"
      ],
      "metadata": {
        "colab": {
          "base_uri": "https://localhost:8080/"
        },
        "id": "mhsIGWnQ2wWv",
        "outputId": "0ca915a9-bad2-43c6-e4f8-d2276e454dd9"
      },
      "execution_count": 2,
      "outputs": [
        {
          "output_type": "stream",
          "name": "stdout",
          "text": [
            "y is greater than x\n",
            "The value of a is: 1\n",
            "The value of b is: 2\n"
          ]
        }
      ]
    },
    {
      "cell_type": "markdown",
      "source": [
        "#Casting and Type Function"
      ],
      "metadata": {
        "id": "zO9qBQAI273R"
      }
    },
    {
      "cell_type": "code",
      "source": [
        "f = int(4)   #integer\n",
        "g=float(4)   #decimal/functional\n",
        "\n",
        "print(f)\n",
        "print(g)\n",
        "\n",
        "print(type(f))\n",
        "print(type(g))\n"
      ],
      "metadata": {
        "colab": {
          "base_uri": "https://localhost:8080/"
        },
        "id": "tiT09E_43Agi",
        "outputId": "300ef8f2-eebb-4457-dbc7-0ded3e7d999e"
      },
      "execution_count": 3,
      "outputs": [
        {
          "output_type": "stream",
          "name": "stdout",
          "text": [
            "4\n",
            "4.0\n",
            "<class 'int'>\n",
            "<class 'float'>\n"
          ]
        }
      ]
    },
    {
      "cell_type": "markdown",
      "source": [
        "#Double qoute or single qoute"
      ],
      "metadata": {
        "id": "rHBzzHZN3G2K"
      }
    },
    {
      "cell_type": "code",
      "source": [
        "name = \"Irish\"\n",
        "name1 = 'Madel'\n",
        "name2 = 'De Guzman'\n",
        "print(name)\n",
        "print(name1)\n",
        "print(name2)"
      ],
      "metadata": {
        "colab": {
          "base_uri": "https://localhost:8080/"
        },
        "id": "cIyHWM2X3Ou2",
        "outputId": "c17c0c14-3ff9-4fd6-d81f-bd32387f3cd1"
      },
      "execution_count": 10,
      "outputs": [
        {
          "output_type": "stream",
          "name": "stdout",
          "text": [
            "Irish\n",
            "Madel\n",
            "De Guzman\n"
          ]
        }
      ]
    },
    {
      "cell_type": "markdown",
      "source": [
        "#Case Sensitive"
      ],
      "metadata": {
        "id": "k6kpH1QV4nMc"
      }
    },
    {
      "cell_type": "code",
      "source": [
        "a = 'Ana'\n",
        "print(a)"
      ],
      "metadata": {
        "colab": {
          "base_uri": "https://localhost:8080/"
        },
        "id": "Tz_kYUs24x2-",
        "outputId": "43b94d40-dc34-4910-8d8c-6a59030377e1"
      },
      "execution_count": 11,
      "outputs": [
        {
          "output_type": "stream",
          "name": "stdout",
          "text": [
            "Ana\n"
          ]
        }
      ]
    }
  ]
}