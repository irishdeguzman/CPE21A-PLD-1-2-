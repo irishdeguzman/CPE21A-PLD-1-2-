{
  "nbformat": 4,
  "nbformat_minor": 0,
  "metadata": {
    "colab": {
      "provenance": [],
      "authorship_tag": "ABX9TyPqDBYTNfKQzPrEhstKJc5a",
      "include_colab_link": true
    },
    "kernelspec": {
      "name": "python3",
      "display_name": "Python 3"
    },
    "language_info": {
      "name": "python"
    }
  },
  "cells": [
    {
      "cell_type": "markdown",
      "metadata": {
        "id": "view-in-github",
        "colab_type": "text"
      },
      "source": [
        "<a href=\"https://colab.research.google.com/github/irishdeguzman/CPE21A-PLD-1-2-/blob/main/DEGUZMAN.ipynb\" target=\"_parent\"><img src=\"https://colab.research.google.com/assets/colab-badge.svg\" alt=\"Open In Colab\"/></a>"
      ]
    },
    {
      "cell_type": "code",
      "source": [
        "class Rectangle:\n",
        "  def __init__(self, length, width):\n",
        "      self.length = length\n",
        "      self.width = width \n",
        "  \n",
        "  def display(self):\n",
        "  print (\"Length of Rectangle is: yup \", self.length)\n",
        "  print (\"Width of Rectangle is: \", self.wid th)\n",
        " \n",
        "  def area(self):\n",
        "  return (self.length self.width)\n",
        "  \n",
        "  def perimeter(self): \n",
        "  return (2 self.length + 2 self.width)\n",
        "\n",
        "1 = int (input(\"Enter the length of Rectangle: \"))\n",
        "b = int (input(\"Enter the width of rectangle: \"))\n",
        "\n",
        "r1 = Rectangle(1, b)\n",
        "print (\"Rectangle object details are:\")\n",
        "r1.display()\n",
        "print(\"\")\n",
        "print (\"Area of Rectangle is: \", r1.area())\n",
        "print(\"\")\n",
        "print (\"Perimeter of Rectangle is: \", r1.perimeter())"
      ],
      "metadata": {
        "colab": {
          "base_uri": "https://localhost:8080/",
          "height": 194
        },
        "id": "SzZuii2It3P8",
        "outputId": "46a564af-286b-425e-8855-3b79f5c20cf4"
      },
      "execution_count": null,
      "outputs": [
        {
          "output_type": "error",
          "ename": "IndentationError",
          "evalue": "ignored",
          "traceback": [
            "\u001b[0;36m  File \u001b[0;32m\"<ipython-input-4-b1d0890a3b20>\"\u001b[0;36m, line \u001b[0;32m7\u001b[0m\n\u001b[0;31m    print (\"Length of Rectangle is: \", self.length)\u001b[0m\n\u001b[0m    ^\u001b[0m\n\u001b[0;31mIndentationError\u001b[0m\u001b[0;31m:\u001b[0m expected an indented block\n"
          ]
        }
      ]
    }
  ]
}