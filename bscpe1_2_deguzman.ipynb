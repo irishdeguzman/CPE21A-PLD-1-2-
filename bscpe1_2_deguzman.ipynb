{
  "nbformat": 4,
  "nbformat_minor": 0,
  "metadata": {
    "colab": {
      "provenance": []
    },
    "kernelspec": {
      "name": "python3",
      "display_name": "Python 3"
    },
    "language_info": {
      "name": "python"
    }
  },
  "cells": [
    {
      "cell_type": "markdown",
      "source": [
        "#Nested If Else"
      ],
      "metadata": {
        "id": "FT8r6GwYG_V2"
      }
    },
    {
      "cell_type": "code",
      "source": [
        "age=int(input(\"Enter your age\"))\n",
        "if age>=18:\n",
        "  print(\"You are qualified to vote\")\n",
        "else\n",
        "  print(\"You ae not qualified to vote\")"
      ],
      "metadata": {
        "id": "CYFUbaYZHDr_"
      },
      "execution_count": null,
      "outputs": []
    },
    {
      "cell_type": "code",
      "source": [
        "number =float(input(\"Enter the number:\"))\n",
        "if number==0:\n",
        "  print(\"Zero\")\n",
        "elif number>0:\n",
        "     print(\"Positive\")\n",
        "else:\n",
        "     print(\"Negative\")"
      ],
      "metadata": {
        "id": "AkcZ0an-XeG9"
      },
      "execution_count": null,
      "outputs": []
    },
    {
      "cell_type": "code",
      "source": [
        "grade=float(input(\"Enter the grade\"))\n",
        "if grade>=75:\n",
        "  print(\"passed\")\n",
        "elif 74<=grade<75:\n",
        "  print (\"Remedial\")\n",
        "else:\n",
        "    print(\"Failed\")"
      ],
      "metadata": {
        "id": "pA1o0C58Yolu"
      },
      "execution_count": null,
      "outputs": []
    }
  ]
}